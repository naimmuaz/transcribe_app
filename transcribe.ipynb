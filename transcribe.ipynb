{
 "cells": [
  {
   "cell_type": "code",
   "execution_count": 1,
   "id": "8cf50fc7",
   "metadata": {},
   "outputs": [],
   "source": [
    "import whisper\n",
    "import datetime"
   ]
  },
  {
   "cell_type": "code",
   "execution_count": 2,
   "id": "d6672f4d",
   "metadata": {},
   "outputs": [],
   "source": [
    "file = '/Users/naimmuaz/Downloads/test.mp3'"
   ]
  },
  {
   "cell_type": "code",
   "execution_count": 3,
   "id": "fae1cbb4",
   "metadata": {},
   "outputs": [],
   "source": [
    "model = whisper.load_model(\"turbo\")"
   ]
  },
  {
   "cell_type": "code",
   "execution_count": 4,
   "id": "6d284bde",
   "metadata": {},
   "outputs": [],
   "source": [
    "result = model.transcribe(file, fp16=False)"
   ]
  },
  {
   "cell_type": "code",
   "execution_count": 5,
   "id": "730ff3ca",
   "metadata": {},
   "outputs": [],
   "source": [
    "segments = result[\"segments\"]\n",
    "with open(\"demofile.txt\", \"w\") as f:\n",
    "    for x in segments:\n",
    "        start = str(datetime.timedelta(seconds = x[\"start\"])).replace('.', ',')\n",
    "        end = str(datetime.timedelta(seconds = x[\"end\"])).replace('.', ',')\n",
    "        \n",
    "        f.write(str(x[\"id\"] + 1) + \"\\n\")\n",
    "        f.write(\"[\" + start + \"-->\" + end + \"] \" + \"\\n\")\n",
    "        f.write(x[\"text\"] + \"\\n\\n\")"
   ]
  }
 ],
 "metadata": {
  "kernelspec": {
   "display_name": "env",
   "language": "python",
   "name": "python3"
  },
  "language_info": {
   "codemirror_mode": {
    "name": "ipython",
    "version": 3
   },
   "file_extension": ".py",
   "mimetype": "text/x-python",
   "name": "python",
   "nbconvert_exporter": "python",
   "pygments_lexer": "ipython3",
   "version": "3.12.12"
  }
 },
 "nbformat": 4,
 "nbformat_minor": 5
}
